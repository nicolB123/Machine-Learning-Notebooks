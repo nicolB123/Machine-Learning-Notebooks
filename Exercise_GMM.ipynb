{
 "cells": [
  {
   "cell_type": "code",
   "execution_count": null,
   "id": "0c175cb1-4eea-4d47-b9dd-1dd779bdaf0e",
   "metadata": {
    "scrolled": false
   },
   "outputs": [],
   "source": [
    "import soundfile as sf\n",
    "import python_speech_features as mfcc\n",
    "from sklearn.mixture import GaussianMixture as GMM\n",
    "import numpy as np\n",
    "from tqdm import tqdm"
   ]
  },
  {
   "cell_type": "code",
   "execution_count": 2,
   "id": "7664b5b4-ec40-4b2e-97db-cade98f34f9c",
   "metadata": {},
   "outputs": [],
   "source": [
    "def extract_features(audiof):\n",
    "    audio,samplerate=sf.read(audiof);\n",
    "    mfccs = mfcc.mfcc(audio, samplerate, 0.025, 0.01, 20, appendEnergy=True)\n",
    "    return mfccs  "
   ]
  },
  {
   "cell_type": "code",
   "execution_count": 3,
   "id": "ce1c95f2-c2d0-40eb-af63-10767c40e1e2",
   "metadata": {},
   "outputs": [],
   "source": [
    "def enroll(utt2spk):\n",
    "    spkMap={}\n",
    "    f = open(utt2spk,'r')\n",
    "    for line in f:\n",
    "        line = line.strip()\n",
    "        columns = line.split()\n",
    "        if len(columns) == 4:\n",
    "            spkMap[columns[0]] = columns[1:4]\n",
    "        else:\n",
    "            print(\"Error, expecting 4 columns in utt2spk for enroll\")\n",
    "\n",
    "    f.close()\n",
    "    return spkMap"
   ]
  },
  {
   "cell_type": "code",
   "execution_count": 4,
   "id": "c82d834a-86a9-40b8-be99-c1c83f79629c",
   "metadata": {},
   "outputs": [],
   "source": [
    "spkMap = enroll(\"../data/LibriSpeech/utt2spk.sid.enroll\")"
   ]
  },
  {
   "cell_type": "code",
   "execution_count": 5,
   "id": "da610225-10e3-474e-ad44-be024ec2923e",
   "metadata": {},
   "outputs": [
    {
     "name": "stdout",
     "output_type": "stream",
     "text": [
      "{'61': ['train-clean//61/70970/61-70970-0040.flac', 'train-clean//61/70970/61-70970-0017.flac', 'train-clean//61/70970/61-70970-0001.flac'], '5639': ['train-clean//5639/40744/5639-40744-0038.flac', 'train-clean//5639/40744/5639-40744-0002.flac', 'train-clean//5639/40744/5639-40744-0014.flac'], '6829': ['train-clean//6829/68769/6829-68769-0041.flac', 'train-clean//6829/68769/6829-68769-0016.flac', 'train-clean//6829/68769/6829-68769-0000.flac'], '908': ['train-clean//908/157963/908-157963-0015.flac', 'train-clean//908/157963/908-157963-0003.flac', 'train-clean//908/157963/908-157963-0019.flac'], '672': ['train-clean//672/122797/672-122797-0023.flac', 'train-clean//672/122797/672-122797-0074.flac', 'train-clean//672/122797/672-122797-0062.flac'], '8455': ['train-clean//8455/210777/8455-210777-0004.flac', 'train-clean//8455/210777/8455-210777-0053.flac', 'train-clean//8455/210777/8455-210777-0045.flac'], '8463': ['train-clean//8463/287645/8463-287645-0002.flac', 'train-clean//8463/287645/8463-287645-0014.flac', 'train-clean//8463/287645/8463-287645-0003.flac']}\n"
     ]
    }
   ],
   "source": [
    "print(spkMap)"
   ]
  },
  {
   "cell_type": "code",
   "execution_count": 6,
   "id": "bf048bce-510d-453c-9b6d-69f125d6213f",
   "metadata": {},
   "outputs": [
    {
     "data": {
      "text/plain": [
       "['train-clean//61/70970/61-70970-0040.flac',\n",
       " 'train-clean//61/70970/61-70970-0017.flac',\n",
       " 'train-clean//61/70970/61-70970-0001.flac']"
      ]
     },
     "execution_count": 6,
     "metadata": {},
     "output_type": "execute_result"
    }
   ],
   "source": [
    "spkMap['61']"
   ]
  },
  {
   "cell_type": "code",
   "execution_count": 7,
   "id": "0cb8a463-872d-4c4b-a7eb-f3b5e0cc459d",
   "metadata": {},
   "outputs": [],
   "source": [
    "GMM_COMPONENTS=32\n",
    "baseDir=\"../data/LibriSpeech\""
   ]
  },
  {
   "cell_type": "code",
   "execution_count": 8,
   "id": "010f703c-d17f-4bad-a1db-6e5c4fa2b6c5",
   "metadata": {},
   "outputs": [],
   "source": [
    "gmm_speakers = {}"
   ]
  },
  {
   "cell_type": "code",
   "execution_count": 9,
   "id": "ab207cb5-59c7-4351-9780-1d21f9ac8c12",
   "metadata": {},
   "outputs": [
    {
     "name": "stdout",
     "output_type": "stream",
     "text": [
      "(1283, 20)\n",
      "Saving speaker model for speaker  61\n",
      "(3040, 20)\n",
      "Saving speaker model for speaker  5639\n",
      "(1844, 20)\n",
      "Saving speaker model for speaker  6829\n",
      "(3895, 20)\n",
      "Saving speaker model for speaker  908\n",
      "(2107, 20)\n",
      "Saving speaker model for speaker  672\n",
      "(2604, 20)\n",
      "Saving speaker model for speaker  8455\n",
      "(2381, 20)\n",
      "Saving speaker model for speaker  8463\n"
     ]
    }
   ],
   "source": [
    "for speaker_id in spkMap:\n",
    "    gmm_speakers[speaker_id] = GMM(n_components = GMM_COMPONENTS, covariance_type='diag')\n",
    "    feature_vect = np.array(())\n",
    "\n",
    "    for audioPath in spkMap[speaker_id]:\n",
    "        speaker_feats = extract_features(baseDir+\"/\"+audioPath)\n",
    "        if feature_vect.size == 0:\n",
    "            feature_vect = speaker_feats\n",
    "        else:\n",
    "            feature_vect = np.vstack((feature_vect, speaker_feats))\n",
    "            \n",
    "    print(feature_vect.shape)\n",
    "    gmm_speakers[speaker_id].fit(feature_vect)\n",
    "    print(\"Saving speaker model for speaker \",speaker_id)  "
   ]
  },
  {
   "cell_type": "code",
   "execution_count": 10,
   "id": "6694091d-9a9c-4e44-b511-d8e310f48b6a",
   "metadata": {},
   "outputs": [],
   "source": [
    "def verify(utt2spk_verify, speakerStruct):\n",
    "\n",
    "    pred_scores = []\n",
    "    labels = []\n",
    "    f = open(utt2spk_verify,'r')\n",
    "    for line in tqdm(f):\n",
    "        line = line.strip()\n",
    "        columns = line.split()\n",
    "        if len(columns) == 3:\n",
    "            test_feats = extract_features(baseDir+\"/\"+columns[1])\n",
    "            score = np.array(speakerStruct[columns[0]].score(test_feats)).sum()\n",
    "            pred_scores.append(score)\n",
    "            if columns[2] == \"TARGET\":\n",
    "                labels.append(1)\n",
    "            else:\n",
    "                labels.append(0)\n",
    "\n",
    "        else:\n",
    "            print(\"Error, expecting 3 columns in verifyMap\")\n",
    "\n",
    "    f.close()\n",
    "    return(labels, pred_scores)"
   ]
  },
  {
   "cell_type": "code",
   "execution_count": 11,
   "id": "fbefa3bc-30c3-48a9-b979-a8213aa9b02c",
   "metadata": {},
   "outputs": [
    {
     "name": "stderr",
     "output_type": "stream",
     "text": [
      "4305it [00:56, 76.04it/s] \n"
     ]
    }
   ],
   "source": [
    "labels, pred_scores = verify(\"../data/LibriSpeech/utt2spk.sid.verify\",gmm_speakers)"
   ]
  },
  {
   "cell_type": "code",
   "execution_count": 13,
   "id": "8e2c5bcc-788d-49de-af57-091a4c005f67",
   "metadata": {},
   "outputs": [],
   "source": [
    "from sklearn.metrics import roc_curve, auc"
   ]
  },
  {
   "cell_type": "code",
   "execution_count": 14,
   "id": "d28ae6fb-014e-4379-8025-df2d44b76ddd",
   "metadata": {},
   "outputs": [
    {
     "name": "stdout",
     "output_type": "stream",
     "text": [
      "AUC  0.8915458176081585\n"
     ]
    }
   ],
   "source": [
    "fpr, tpr, _ = roc_curve(labels, pred_scores)\n",
    "roc_auc = auc(fpr,tpr)\n",
    "\n",
    "print(\"AUC \",roc_auc)"
   ]
  },
  {
   "cell_type": "code",
   "execution_count": 15,
   "id": "72bb0044-e295-41df-8f78-4d792684e1d0",
   "metadata": {},
   "outputs": [
    {
     "data": {
      "text/plain": [
       "Text(0, 0.5, 'True Positive Rate')"
      ]
     },
     "execution_count": 15,
     "metadata": {},
     "output_type": "execute_result"
    },
    {
     "data": {
      "image/png": "[encoded data removed]",
      "text/plain": [
       "<Figure size 640x480 with 1 Axes>"
      ]
     },
     "metadata": {},
     "output_type": "display_data"
    }
   ],
   "source": [
    "import matplotlib.pyplot as plt\n",
    "\n",
    "plt.plot(fpr,tpr, label= 'ROC curve')\n",
    "plt.xlabel('False Positive Rate')\n",
    "plt.ylabel('True Positive Rate')"
   ]
  },
  {
   "cell_type": "markdown",
   "id": "cd20f27f-3b5b-45b3-9ab5-a0d9a1836bb0",
   "metadata": {},
   "source": [
    "## Generating UBM"
   ]
  },
  {
   "cell_type": "code",
   "execution_count": 16,
   "id": "ac34b238-27bb-49f7-a74b-93470c37763d",
   "metadata": {},
   "outputs": [],
   "source": [
    "import os\n",
    "\n",
    "def generate_all_features(dir):\n",
    "    features = np.asarray(())\n",
    "    for path, dirs, files in os.walk(dir):\n",
    "        for file in files:\n",
    "            if 'flac' in file:\n",
    "                af = os.path.join(path,file)\n",
    "                if features.size == 0:\n",
    "                    features = extract_features(af)\n",
    "                else:\n",
    "                    features = np.vstack((features, extract_features(af)))\n",
    "    return features"
   ]
  },
  {
   "cell_type": "code",
   "execution_count": 17,
   "id": "fd55496a-9d9e-4ef1-9003-1ec457b0b379",
   "metadata": {},
   "outputs": [],
   "source": [
    "all_feats = generate_all_features(\"../data/LibriSpeech/train-clean\")"
   ]
  },
  {
   "cell_type": "code",
   "execution_count": 18,
   "id": "f41f26ba-9146-423b-b20f-2b89c5317031",
   "metadata": {},
   "outputs": [
    {
     "name": "stdout",
     "output_type": "stream",
     "text": [
      "(1000000, 20)\n"
     ]
    }
   ],
   "source": [
    "np.random.shuffle(all_feats)\n",
    "smallSet = all_feats[:1000000,:]\n",
    "print(smallSet.shape)"
   ]
  },
  {
   "cell_type": "code",
   "execution_count": 19,
   "id": "ef870043-af10-4e81-86f5-ce4004ae1022",
   "metadata": {
    "scrolled": true
   },
   "outputs": [
    {
     "data": {
      "text/html": [
       "<style>#sk-container-id-1 {color: black;background-color: white;}#sk-container-id-1 pre{padding: 0;}#sk-container-id-1 div.sk-toggleable {background-color: white;}#sk-container-id-1 label.sk-toggleable__label {cursor: pointer;display: block;width: 100%;margin-bottom: 0;padding: 0.3em;box-sizing: border-box;text-align: center;}#sk-container-id-1 label.sk-toggleable__label-arrow:before {content: \"▸\";float: left;margin-right: 0.25em;color: #696969;}#sk-container-id-1 label.sk-toggleable__label-arrow:hover:before {color: black;}#sk-container-id-1 div.sk-estimator:hover label.sk-toggleable__label-arrow:before {color: black;}#sk-container-id-1 div.sk-toggleable__content {max-height: 0;max-width: 0;overflow: hidden;text-align: left;background-color: #f0f8ff;}#sk-container-id-1 div.sk-toggleable__content pre {margin: 0.2em;color: black;border-radius: 0.25em;background-color: #f0f8ff;}#sk-container-id-1 input.sk-toggleable__control:checked~div.sk-toggleable__content {max-height: 200px;max-width: 100%;overflow: auto;}#sk-container-id-1 input.sk-toggleable__control:checked~label.sk-toggleable__label-arrow:before {content: \"▾\";}#sk-container-id-1 div.sk-estimator input.sk-toggleable__control:checked~label.sk-toggleable__label {background-color: #d4ebff;}#sk-container-id-1 div.sk-label input.sk-toggleable__control:checked~label.sk-toggleable__label {background-color: #d4ebff;}#sk-container-id-1 input.sk-hidden--visually {border: 0;clip: rect(1px 1px 1px 1px);clip: rect(1px, 1px, 1px, 1px);height: 1px;margin: -1px;overflow: hidden;padding: 0;position: absolute;width: 1px;}#sk-container-id-1 div.sk-estimator {font-family: monospace;background-color: #f0f8ff;border: 1px dotted black;border-radius: 0.25em;box-sizing: border-box;margin-bottom: 0.5em;}#sk-container-id-1 div.sk-estimator:hover {background-color: #d4ebff;}#sk-container-id-1 div.sk-parallel-item::after {content: \"\";width: 100%;border-bottom: 1px solid gray;flex-grow: 1;}#sk-container-id-1 div.sk-label:hover label.sk-toggleable__label {background-color: #d4ebff;}#sk-container-id-1 div.sk-serial::before {content: \"\";position: absolute;border-left: 1px solid gray;box-sizing: border-box;top: 0;bottom: 0;left: 50%;z-index: 0;}#sk-container-id-1 div.sk-serial {display: flex;flex-direction: column;align-items: center;background-color: white;padding-right: 0.2em;padding-left: 0.2em;position: relative;}#sk-container-id-1 div.sk-item {position: relative;z-index: 1;}#sk-container-id-1 div.sk-parallel {display: flex;align-items: stretch;justify-content: center;background-color: white;position: relative;}#sk-container-id-1 div.sk-item::before, #sk-container-id-1 div.sk-parallel-item::before {content: \"\";position: absolute;border-left: 1px solid gray;box-sizing: border-box;top: 0;bottom: 0;left: 50%;z-index: -1;}#sk-container-id-1 div.sk-parallel-item {display: flex;flex-direction: column;z-index: 1;position: relative;background-color: white;}#sk-container-id-1 div.sk-parallel-item:first-child::after {align-self: flex-end;width: 50%;}#sk-container-id-1 div.sk-parallel-item:last-child::after {align-self: flex-start;width: 50%;}#sk-container-id-1 div.sk-parallel-item:only-child::after {width: 0;}#sk-container-id-1 div.sk-dashed-wrapped {border: 1px dashed gray;margin: 0 0.4em 0.5em 0.4em;box-sizing: border-box;padding-bottom: 0.4em;background-color: white;}#sk-container-id-1 div.sk-label label {font-family: monospace;font-weight: bold;display: inline-block;line-height: 1.2em;}#sk-container-id-1 div.sk-label-container {text-align: center;}#sk-container-id-1 div.sk-container {/* jupyter's `normalize.less` sets `[hidden] { display: none; }` but bootstrap.min.css set `[hidden] { display: none !important; }` so we also need the `!important` here to be able to override the default hidden behavior on the sphinx rendered scikit-learn.org. See: https://github.com/scikit-learn/scikit-learn/issues/21755 */display: inline-block !important;position: relative;}#sk-container-id-1 div.sk-text-repr-fallback {display: none;}</style><div id=\"sk-container-id-1\" class=\"sk-top-container\"><div class=\"sk-text-repr-fallback\"><pre>GaussianMixture(covariance_type=&#x27;diag&#x27;, n_components=32)</pre><b>In a Jupyter environment, please rerun this cell to show the HTML representation or trust the notebook. <br />On GitHub, the HTML representation is unable to render, please try loading this page with nbviewer.org.</b></div><div class=\"sk-container\" hidden><div class=\"sk-item\"><div class=\"sk-estimator sk-toggleable\"><input class=\"sk-toggleable__control sk-hidden--visually\" id=\"sk-estimator-id-1\" type=\"checkbox\" checked><label for=\"sk-estimator-id-1\" class=\"sk-toggleable__label sk-toggleable__label-arrow\">GaussianMixture</label><div class=\"sk-toggleable__content\"><pre>GaussianMixture(covariance_type=&#x27;diag&#x27;, n_components=32)</pre></div></div></div></div></div>"
      ],
      "text/plain": [
       "GaussianMixture(covariance_type='diag', n_components=32)"
      ]
     },
     "execution_count": 19,
     "metadata": {},
     "output_type": "execute_result"
    }
   ],
   "source": [
    "ubm = GMM(n_components = GMM_COMPONENTS, covariance_type = 'diag')\n",
    "ubm.fit(smallSet)"
   ]
  },
  {
   "cell_type": "code",
   "execution_count": 21,
   "id": "920a1c9c-dd00-4b51-aecb-603bc516449a",
   "metadata": {},
   "outputs": [],
   "source": [
    "import copy\n",
    "\n",
    "def map_adapt(ubm, X, max_iter = 100, r = 16):\n",
    "    gmm = copy.deepcopy(ubm)\n",
    "\n",
    "    for _ in range(max_iter):\n",
    "        n = np.sum(gmm.predict_proba(X), axis=0).reshape(-1,1)\n",
    "        n = n+0.001\n",
    "        X_tilde = (1/n) * gmm.predict_proba(X).T.dot(X)\n",
    "        \n",
    "        alpha = (n/n+r).reshape(-1,1)\n",
    "        gmm.means_ = alpha * X_tilde + (1-alpha) * gmm.means_\n",
    "        \n",
    "    return gmm   "
   ]
  },
  {
   "cell_type": "code",
   "execution_count": 22,
   "id": "462ee65b-ee7c-482e-a148-30b992ff93d4",
   "metadata": {},
   "outputs": [],
   "source": [
    "def map_adapt2(ubm, X, max_iter=100, r=25):\n",
    "    \n",
    "    gmm = copy.deepcopy(ubm)\n",
    "    \n",
    "    for _ in range(max_iter):\n",
    "        n = np.sum(gmm.predict_proba(X), axis=0).reshape(-1, 1)\n",
    "        n = n + 0.001\n",
    "        #print(n)\n",
    "        X_tilde = (1 / n) * gmm.predict_proba(X).T.dot(X) \n",
    "        alpha = (n / (n + r)).reshape(-1, 1)\n",
    "        gmm.means_ = alpha * X_tilde + (1 - alpha) * gmm.means_\n",
    "    \n",
    "    return gmm"
   ]
  },
  {
   "cell_type": "code",
   "execution_count": 23,
   "id": "04d89f78-83ca-49cd-8361-0623cd4b0c7f",
   "metadata": {},
   "outputs": [
    {
     "name": "stdout",
     "output_type": "stream",
     "text": [
      "(1283, 20)\n",
      "Saving map speaker model for speaker  61\n",
      "(3040, 20)\n",
      "Saving map speaker model for speaker  5639\n",
      "(1844, 20)\n",
      "Saving map speaker model for speaker  6829\n",
      "(3895, 20)\n",
      "Saving map speaker model for speaker  908\n",
      "(2107, 20)\n",
      "Saving map speaker model for speaker  672\n",
      "(2604, 20)\n",
      "Saving map speaker model for speaker  8455\n",
      "(2381, 20)\n",
      "Saving map speaker model for speaker  8463\n"
     ]
    }
   ],
   "source": [
    "map_speakers = {}\n",
    "\n",
    "for speaker_id in spkMap:\n",
    "    feature_vect = np.array(())\n",
    "\n",
    "    for audioPath in spkMap[speaker_id]:\n",
    "        speaker_feats = extract_features(baseDir+\"/\"+audioPath)\n",
    "        if feature_vect.size == 0:\n",
    "            feature_vect = speaker_feats\n",
    "        else:\n",
    "            feature_vect = np.vstack((feature_vect, speaker_feats))\n",
    "            \n",
    "    print(feature_vect.shape)\n",
    "    map_speakers[speaker_id] = map_adapt2(ubm, feature_vect)\n",
    "    print(\"Saving map speaker model for speaker \",speaker_id) "
   ]
  },
  {
   "cell_type": "code",
   "execution_count": 24,
   "id": "652d6a18-484c-4876-9e0b-b237506565f5",
   "metadata": {
    "scrolled": true
   },
   "outputs": [
    {
     "name": "stderr",
     "output_type": "stream",
     "text": [
      "4305it [00:51, 84.34it/s] \n"
     ]
    }
   ],
   "source": [
    "labels_map, pred_scores_map = verify(\"../data/LibriSpeech/utt2spk.sid.verify\", map_speakers)"
   ]
  },
  {
   "cell_type": "code",
   "execution_count": 25,
   "id": "1fea954f-42a0-49fa-a56a-f370e9d7c884",
   "metadata": {},
   "outputs": [
    {
     "name": "stdout",
     "output_type": "stream",
     "text": [
      "AUC  0.8952593024437357\n"
     ]
    }
   ],
   "source": [
    "fpr_map, tpr_map, _ = roc_curve(labels_map, pred_scores_map)\n",
    "roc_auc_map = auc(fpr_map,tpr_map)\n",
    "\n",
    "print(\"AUC \",roc_auc_map)"
   ]
  },
  {
   "cell_type": "code",
   "execution_count": 26,
   "id": "34afc19b-fd91-4845-8373-296047de9364",
   "metadata": {},
   "outputs": [
    {
     "data": {
      "text/plain": [
       "Text(0, 0.5, 'True Positive Rate')"
      ]
     },
     "execution_count": 26,
     "metadata": {},
     "output_type": "execute_result"
    },
    {
     "data": {
      "image/png": "[encoded data removed]",
      "text/plain": [
       "<Figure size 640x480 with 1 Axes>"
      ]
     },
     "metadata": {},
     "output_type": "display_data"
    }
   ],
   "source": [
    "import matplotlib.pyplot as plt\n",
    "\n",
    "plt.plot(fpr,tpr, label= 'ROC curve')\n",
    "plt.plot(fpr_map,tpr_map, label= 'ROC curve MAP')\n",
    "\n",
    "plt.xlabel('False Positive Rate')\n",
    "plt.ylabel('True Positive Rate')"
   ]
  }
 ],
 "metadata": {
  "kernelspec": {
   "display_name": "Python 3 (ipykernel)",
   "language": "python",
   "name": "python3"
  },
  "language_info": {
   "codemirror_mode": {
    "name": "ipython",
    "version": 3
   },
   "file_extension": ".py",
   "mimetype": "text/x-python",
   "name": "python",
   "nbconvert_exporter": "python",
   "pygments_lexer": "ipython3",
   "version": "3.10.9"
  }
 },
 "nbformat": 4,
 "nbformat_minor": 5
}
