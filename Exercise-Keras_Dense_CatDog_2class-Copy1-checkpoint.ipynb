{
 "cells": [
  {
   "cell_type": "markdown",
   "metadata": {},
   "source": [
    "# Wir implementieren einen Hund-Katze Klassifikator mit neuronalen Netzen"
   ]
  },
  {
   "cell_type": "code",
   "execution_count": 3,
   "metadata": {},
   "outputs": [],
   "source": [
    "import sklearn\n",
    "from sklearn import metrics\n",
    "from sklearn.utils import shuffle\n",
    "from sklearn.model_selection import train_test_split\n",
    "from sklearn.preprocessing import LabelEncoder\n",
    "from tensorflow.keras.preprocessing.image import ImageDataGenerator\n",
    "from tensorflow import keras\n",
    "from tensorflow.keras import layers\n",
    "from tensorflow.keras import utils\n",
    "import numpy as np\n",
    "import cv2\n",
    "import os"
   ]
  },
  {
   "cell_type": "markdown",
   "metadata": {},
   "source": [
    "## Folgende Funktion nimmt ein Bild entgegen, skaliert das Bild auf 32x32 RGB-Pixel, und liefert einen 3072-dim Merkmalevektor zurueck"
   ]
  },
  {
   "cell_type": "code",
   "execution_count": 4,
   "metadata": {},
   "outputs": [],
   "source": [
    "def image_to_feature_vector(image, size=(32, 32)):\n",
    "    return cv2.resize(image, size).flatten()"
   ]
  },
  {
   "cell_type": "markdown",
   "metadata": {},
   "source": [
    "## Laden Sie die Daten aus dem gitlab:\n",
    "\n",
    "- data/train.zip\n",
    "\n",
    "- data/test100.zip\n",
    "\n",
    "\n",
    "Schreiben Sie eine Funktion, die die Bilder einliest und mit Hilfe der Funktion image_to_feature_vector vorverarbeiten. Anschließend sollen die Vektoren in eine data-Matrix geschrieben werden. \n",
    "Zusätzlich ist ein label-Vektor zu erzeugen. Wie sehen die Labels sinnvollerweise aus?"
   ]
  },
  {
   "cell_type": "code",
   "execution_count": 5,
   "metadata": {},
   "outputs": [],
   "source": [
    "def load_images(directory, size=(32, 32)):\n",
    "    data = []\n",
    "    labels = []\n",
    "\n",
    "    for filename in os.listdir(directory):\n",
    "        if filename.endswith(\".jpg\"):\n",
    "            image = cv2.imread(os.path.join(directory, filename))\n",
    "            features = image_to_feature_vector(image, size)\n",
    "            data.append(features)\n",
    "            label = filename.split(\".\")[0]\n",
    "            if label == \"cat\":\n",
    "                label = 0\n",
    "            if label == \"dog\":\n",
    "                label = 1\n",
    "            labels.append(label)\n",
    "\n",
    "    data = np.array(data)\n",
    "    labels = np.array(labels)\n",
    "    \n",
    "    label_encoder = LabelEncoder()\n",
    "    labels = label_encoder.fit_transform(labels)\n",
    "    labels = keras.utils.to_categorical(labels, num_classes=2)\n",
    "\n",
    "    return data, labels"
   ]
  },
  {
   "cell_type": "code",
   "execution_count": 6,
   "metadata": {},
   "outputs": [
    {
     "name": "stdout",
     "output_type": "stream",
     "text": [
      "(25000, 3072)\n"
     ]
    }
   ],
   "source": [
    "data, labels = load_images(\"...\\\\cat_dog_train_data\\\\train\")\n",
    "print(data.shape)"
   ]
  },
  {
   "cell_type": "markdown",
   "metadata": {},
   "source": [
    "## Splitten Sie die Daten in ein train/test-set.\n",
    "\n",
    "Macht es Sinn die Daten zu normieren?"
   ]
  },
  {
   "cell_type": "markdown",
   "metadata": {},
   "source": [
    "Es macht Sinn die Daten zu normieren in Bezug auf input feature scaling und diesbezüglich overfitting"
   ]
  },
  {
   "cell_type": "code",
   "execution_count": 7,
   "metadata": {},
   "outputs": [],
   "source": [
    "normalized_data = utils.normalize(data)\n",
    "\n",
    "shuffled_data, shuffled_labels = shuffle(data, labels, random_state=42)"
   ]
  },
  {
   "cell_type": "code",
   "execution_count": 8,
   "metadata": {},
   "outputs": [],
   "source": [
    "X_train, X_dev, y_train, y_dev = train_test_split(shuffled_data, shuffled_labels, test_size=0.25, random_state=42)\n",
    "\n",
    "X_train_reshaped = X_train.reshape(-1, 32, 32, 3)\n",
    "X_dev_reshaped = X_dev.reshape(-1, 32, 32, 3)"
   ]
  },
  {
   "cell_type": "code",
   "execution_count": 9,
   "metadata": {},
   "outputs": [],
   "source": [
    "datagen = ImageDataGenerator(\n",
    "    rotation_range=20,       \n",
    "    width_shift_range=0.1,   \n",
    "    height_shift_range=0.1,  \n",
    "    shear_range=0.2,         \n",
    "    zoom_range=0.2,          \n",
    "    horizontal_flip=True,    \n",
    "    fill_mode='nearest'      \n",
    ")\n",
    "\n",
    "datagen.fit(X_train_reshaped)\n",
    "\n",
    "augmented_train_data = datagen.flow(X_train_reshaped, y_train, batch_size=2)\n",
    "\n",
    "augmented_dev_data = datagen.flow(X_dev_reshaped, y_dev, batch_size=2)"
   ]
  },
  {
   "cell_type": "markdown",
   "metadata": {},
   "source": [
    "# Erstellen Sie ein Neuronales Netz mit Keras"
   ]
  },
  {
   "cell_type": "code",
   "execution_count": 10,
   "metadata": {},
   "outputs": [],
   "source": [
    "image_height, image_width, channels = 32, 32, 3\n",
    "\n",
    "model = keras.Sequential([\n",
    "    layers.Conv2D(32, (3, 3), activation='relu', input_shape=(32, 32, 3)),\n",
    "    layers.MaxPooling2D((2, 2)),\n",
    "    layers.Conv2D(64, (3, 3), activation='relu'),\n",
    "    layers.MaxPooling2D((2, 2)),\n",
    "    layers.Conv2D(128, (3, 3), activation='relu'),\n",
    "    layers.MaxPooling2D((2, 2)),\n",
    "    layers.Flatten(),\n",
    "    layers.Dense(128, activation='relu'),\n",
    "    layers.Dropout(0.5),\n",
    "    layers.Dense(2, activation='softmax')\n",
    "])\n",
    "\n",
    "model.compile(optimizer='adam',\n",
    "              loss='categorical_crossentropy',\n",
    "              metrics=['accuracy'])"
   ]
  },
  {
   "cell_type": "markdown",
   "metadata": {},
   "source": [
    "# ... und starten Sie das Training"
   ]
  },
  {
   "cell_type": "code",
   "execution_count": 11,
   "metadata": {
    "scrolled": true
   },
   "outputs": [
    {
     "name": "stdout",
     "output_type": "stream",
     "text": [
      "Epoch 1/5\n",
      "9375/9375 [==============================] - 46s 5ms/step - loss: 0.7588 - accuracy: 0.5057 - val_loss: 0.6931 - val_accuracy: 0.5019\n",
      "Epoch 2/5\n",
      "9375/9375 [==============================] - 44s 5ms/step - loss: 0.6973 - accuracy: 0.5037 - val_loss: 0.6938 - val_accuracy: 0.4994\n",
      "Epoch 3/5\n",
      "9375/9375 [==============================] - 47s 5ms/step - loss: 0.6957 - accuracy: 0.4991 - val_loss: 0.6933 - val_accuracy: 0.4994\n",
      "Epoch 4/5\n",
      "9375/9375 [==============================] - 47s 5ms/step - loss: 0.6936 - accuracy: 0.4969 - val_loss: 0.6932 - val_accuracy: 0.4994\n",
      "Epoch 5/5\n",
      "9375/9375 [==============================] - 51s 5ms/step - loss: 0.6935 - accuracy: 0.5033 - val_loss: 0.6933 - val_accuracy: 0.4976\n"
     ]
    },
    {
     "data": {
      "text/plain": [
       "<keras.callbacks.History at 0x1b15ce0ef50>"
      ]
     },
     "execution_count": 11,
     "metadata": {},
     "output_type": "execute_result"
    }
   ],
   "source": [
    "model.fit(augmented_train_data, epochs=5, validation_data=augmented_dev_data)"
   ]
  },
  {
   "cell_type": "markdown",
   "metadata": {},
   "source": [
    "# Evaluieren Sie das Netz auf den held-back Test-Daten\n",
    "\n",
    "\n",
    "Berechnen Sie die Akkuratheit und die Verwechselungsmatrix"
   ]
  },
  {
   "cell_type": "code",
   "execution_count": 18,
   "metadata": {},
   "outputs": [],
   "source": [
    "def evaluate_model(model, test_directory):\n",
    "    test_data, test_labels = load_images(test_directory, size=(32, 32))\n",
    "    normalized_test_data = utils.normalize(test_data)\n",
    "\n",
    "    test_data_reshaped = normalized_test_data.reshape(-1, 32, 32, 3)\n",
    "\n",
    "    predictions = model.predict(test_data_reshaped)\n",
    "    predicted_labels = np.argmax(predictions, axis=1)\n",
    "    true_labels = np.argmax(test_labels, axis=1)\n",
    "    acc = sklearn.metrics.accuracy_score(true_labels, predicted_labels)\n",
    "    print(f\"Accuracy: {acc}\")"
   ]
  },
  {
   "cell_type": "code",
   "execution_count": 19,
   "metadata": {},
   "outputs": [
    {
     "name": "stdout",
     "output_type": "stream",
     "text": [
      "4/4 [==============================] - 0s 3ms/step\n",
      "Accuracy: 0.51\n"
     ]
    }
   ],
   "source": [
    "evaluate_model(model,\"...\\\\cat_dog_test_data\\\\test100\")"
   ]
  }
 ],
 "metadata": {
  "kernelspec": {
   "display_name": "Python 3 (ipykernel)",
   "language": "python",
   "name": "python3"
  },
  "language_info": {
   "codemirror_mode": {
    "name": "ipython",
    "version": 3
   },
   "file_extension": ".py",
   "mimetype": "text/x-python",
   "name": "python",
   "nbconvert_exporter": "python",
   "pygments_lexer": "ipython3",
   "version": "3.10.9"
  }
 },
 "nbformat": 4,
 "nbformat_minor": 4
}
